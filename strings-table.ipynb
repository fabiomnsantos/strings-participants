{
 "cells": [
  {
   "cell_type": "markdown",
   "metadata": {},
   "source": [
    "# Strings 2021 Participant Statistics\n",
    "\n",
    "Here we analyze the Strings 2021 list of participants. The main challenge is to clean up the entries to properly analyze the data."
   ]
  },
  {
   "cell_type": "code",
   "execution_count": 1,
   "metadata": {},
   "outputs": [],
   "source": [
    "import tabula\n",
    "import pandas as pd\n",
    "import matplotlib.pyplot as plt\n",
    "import re"
   ]
  },
  {
   "cell_type": "markdown",
   "metadata": {},
   "source": [
    "We use `tabula-py` to download and extract the tables from the PDF file:"
   ]
  },
  {
   "cell_type": "code",
   "execution_count": 415,
   "metadata": {},
   "outputs": [],
   "source": [
    "path_to_pdf = \"https://www.ictp-saifr.org/wp-content/uploads/2021/06/stringsreg616.pdf\"\n",
    "df_list = tabula.read_pdf(path_to_pdf, pages = \"all\")\n",
    "#dfs_local=tabula.read_pdf(\"strings-table.pdf\", pages = \"all\")"
   ]
  },
  {
   "cell_type": "markdown",
   "metadata": {},
   "source": [
    "Each PDF page gives a table, so we have to clean them, adjust the columns and append them together into one big table `df_strings`:"
   ]
  },
  {
   "cell_type": "code",
   "execution_count": 416,
   "metadata": {},
   "outputs": [
    {
     "data": {
      "text/html": [
       "<div>\n",
       "<style scoped>\n",
       "    .dataframe tbody tr th:only-of-type {\n",
       "        vertical-align: middle;\n",
       "    }\n",
       "\n",
       "    .dataframe tbody tr th {\n",
       "        vertical-align: top;\n",
       "    }\n",
       "\n",
       "    .dataframe thead th {\n",
       "        text-align: right;\n",
       "    }\n",
       "</style>\n",
       "<table border=\"1\" class=\"dataframe\">\n",
       "  <thead>\n",
       "    <tr style=\"text-align: right;\">\n",
       "      <th></th>\n",
       "      <th>Name</th>\n",
       "      <th>Institution</th>\n",
       "      <th>Country</th>\n",
       "      <th>Position</th>\n",
       "    </tr>\n",
       "    <tr>\n",
       "      <th>No</th>\n",
       "      <th></th>\n",
       "      <th></th>\n",
       "      <th></th>\n",
       "      <th></th>\n",
       "    </tr>\n",
       "  </thead>\n",
       "  <tbody>\n",
       "    <tr>\n",
       "      <th>1</th>\n",
       "      <td>Aalsma, Lars</td>\n",
       "      <td>University of Wisconsin-Madison</td>\n",
       "      <td>United States of America</td>\n",
       "      <td>Postdoc</td>\n",
       "    </tr>\n",
       "    <tr>\n",
       "      <th>2</th>\n",
       "      <td>Abbasi, Navid</td>\n",
       "      <td>LZU</td>\n",
       "      <td>China</td>\n",
       "      <td>Faculty</td>\n",
       "    </tr>\n",
       "    <tr>\n",
       "      <th>3</th>\n",
       "      <td>Abderrazaq, Abassi El</td>\n",
       "      <td>Ibn Tofail University</td>\n",
       "      <td>Morrocco</td>\n",
       "      <td>Graduate student</td>\n",
       "    </tr>\n",
       "    <tr>\n",
       "      <th>4</th>\n",
       "      <td>Abdulhamid, Ibrahim Muhammad</td>\n",
       "      <td>Faculty of Science, Tanta University, Egypt</td>\n",
       "      <td>Egypt</td>\n",
       "      <td>Graduate student</td>\n",
       "    </tr>\n",
       "    <tr>\n",
       "      <th>5</th>\n",
       "      <td>Abe, Yoshihiko</td>\n",
       "      <td>Kyoto Univ.</td>\n",
       "      <td>Japan</td>\n",
       "      <td>Graduate student</td>\n",
       "    </tr>\n",
       "  </tbody>\n",
       "</table>\n",
       "</div>"
      ],
      "text/plain": [
       "                            Name                                  Institution  \\\n",
       "No                                                                              \n",
       "1                   Aalsma, Lars              University of Wisconsin-Madison   \n",
       "2                  Abbasi, Navid                                          LZU   \n",
       "3          Abderrazaq, Abassi El                        Ibn Tofail University   \n",
       "4   Abdulhamid, Ibrahim Muhammad  Faculty of Science, Tanta University, Egypt   \n",
       "5                 Abe, Yoshihiko                                  Kyoto Univ.   \n",
       "\n",
       "                     Country          Position  \n",
       "No                                              \n",
       "1   United States of America           Postdoc  \n",
       "2                      China           Faculty  \n",
       "3                   Morrocco  Graduate student  \n",
       "4                      Egypt  Graduate student  \n",
       "5                      Japan  Graduate student  "
      ]
     },
     "execution_count": 416,
     "metadata": {},
     "output_type": "execute_result"
    }
   ],
   "source": [
    "## I can only run this once, because it is changing df_list in some steps. Can I fix this?\n",
    "for i,df in enumerate(df_list):\n",
    "    if  i == 0 :\n",
    "        df_list[0].columns = df_list[0].iloc[1]   # Fix column names\n",
    "        df_strings = df_list[0].drop([0,1]).reset_index(drop=True).astype({\"No\": int}).copy() # Start df_strings DF\n",
    "        df_strings.columns.name=''\n",
    "    else :\n",
    "        df.loc[len(df)] = list(df.columns) # Adding column names to the bottom.\n",
    "        df.columns = df_strings.columns  # Fix column names\n",
    "        df_list_new = df.astype({\"No\": int}).sort_values('No').reset_index(drop=True).copy() # Transform 'No' column to int64, sort values in ascending order and reset indexes \n",
    "        df_strings = df_strings.append(df_list_new, ignore_index=True) # Append DF to the bottom of strings\n",
    "        \n",
    "df_strings = df_strings.set_index('No')\n",
    "df_strings.head()"
   ]
  },
  {
   "cell_type": "markdown",
   "metadata": {},
   "source": [
    "Now I want to check and clean the Countries names, as many are neither countries, nor written correctly. Some are even written in another language! Our goal is to do an accurate histogram of countries in the analysis part. First, I will capitalize the strings to make life easier."
   ]
  },
  {
   "cell_type": "code",
   "execution_count": 417,
   "metadata": {},
   "outputs": [],
   "source": [
    "df_strings.Country = df_strings.Country.apply(str.capitalize)"
   ]
  },
  {
   "cell_type": "code",
   "execution_count": 418,
   "metadata": {},
   "outputs": [
    {
     "data": {
      "text/plain": [
       "array(['United states of america', 'China', 'Morrocco', 'Egypt', 'Japan',\n",
       "       'India', 'Italy', 'Germany', 'Usa', 'Russia', 'Belgium',\n",
       "       'Argentina', 'Israel', 'United states', 'Pakistan',\n",
       "       'United kingdom', 'Bangladesh', 'Netherlands', 'Colombia',\n",
       "       'France', 'Bulgaria', 'Uk', 'Iran', 'Brasil', 'Brazil',\n",
       "       'Saudi arabia', 'Denmark', 'Portugal', 'Uruguay', 'Chile',\n",
       "       'Ecuador', 'South korea', 'Greece', 'Italia',\n",
       "       'United state of america', 'Spain', 'The netherlands', 'Россия',\n",
       "       'Canada', 'Australia', 'Singapore', 'Ireland', 'Angola',\n",
       "       'Switzerland', 'Korea', 'Sweden', 'Perú', 'Turkey', 'South africa',\n",
       "       'Mexico', 'Morocco', 'Alemania', 'Guatemala', 'Czech republic',\n",
       "       'P. r. china', 'Belguim', '中国', 'Poland', 'Republic of korea',\n",
       "       'Hong kong', 'Romania', 'Austria', 'Serbia', 'Czechia',\n",
       "       'Licenciatura em física', 'Türkiye', 'Francia', 'Uae', 'Us',\n",
       "       'Venezuela', 'Spagna', 'Ukraine', 'México', 'Thailand', 'Ghana',\n",
       "       'Eygpt', 'Taiwan', 'Philippines', 'Bahia', 'Nepal', 'Finland',\n",
       "       'Korea (rok)', 'Republic of korea(south korea)', 'Malta', '日本',\n",
       "       'U.s.', 'Việt nam', 'England', 'Países bajos', 'Honduras',\n",
       "       'Vietnam', 'Österreich', 'Scotland', 'Peru', 'Rwanda', 'Nigeria',\n",
       "       'Oman', 'Estados unidos', 'Cyprus', 'Indonesia', 'Algeria', 'Japn',\n",
       "       'Ibaraki', 'Sweden & denmark', 'Malaysia', '瑞典', 'Belgique',\n",
       "       'The netherlands/brazil', 'Iceland', 'Melbourne', 'España',\n",
       "       'New york, usa', '美国', 'U.s.a.', 'Cairo', 'França', 'Polska',\n",
       "       'Norway', 'Slovakia', 'R. of north macedonia', 'Kuwait',\n",
       "       'Nederland', 'België', 'Hungary', 'Santa barbara', 'The us',\n",
       "       'Hong kong china', 'Roc', 'Ca'], dtype=object)"
      ]
     },
     "execution_count": 418,
     "metadata": {},
     "output_type": "execute_result"
    }
   ],
   "source": [
    "df_strings.Country.unique()"
   ]
  },
  {
   "cell_type": "code",
   "execution_count": 403,
   "metadata": {},
   "outputs": [
    {
     "data": {
      "text/html": [
       "<div>\n",
       "<style scoped>\n",
       "    .dataframe tbody tr th:only-of-type {\n",
       "        vertical-align: middle;\n",
       "    }\n",
       "\n",
       "    .dataframe tbody tr th {\n",
       "        vertical-align: top;\n",
       "    }\n",
       "\n",
       "    .dataframe thead th {\n",
       "        text-align: right;\n",
       "    }\n",
       "</style>\n",
       "<table border=\"1\" class=\"dataframe\">\n",
       "  <thead>\n",
       "    <tr style=\"text-align: right;\">\n",
       "      <th></th>\n",
       "      <th>Name</th>\n",
       "      <th>Institution</th>\n",
       "      <th>Country</th>\n",
       "      <th>Position</th>\n",
       "    </tr>\n",
       "    <tr>\n",
       "      <th>No</th>\n",
       "      <th></th>\n",
       "      <th></th>\n",
       "      <th></th>\n",
       "      <th></th>\n",
       "    </tr>\n",
       "  </thead>\n",
       "  <tbody>\n",
       "    <tr>\n",
       "      <th>399</th>\n",
       "      <td>Dias, Cid Keythson</td>\n",
       "      <td>Universidade do Estado do Amazonas</td>\n",
       "      <td>Licenciatura em física</td>\n",
       "      <td>Faculty</td>\n",
       "    </tr>\n",
       "    <tr>\n",
       "      <th>1291</th>\n",
       "      <td>Obers, Niels</td>\n",
       "      <td>Nordita &amp; Niels Bohr Institute</td>\n",
       "      <td>Sweden &amp; denmark</td>\n",
       "      <td>Faculty</td>\n",
       "    </tr>\n",
       "    <tr>\n",
       "      <th>1385</th>\n",
       "      <td>Pereira, Duarte Antonio</td>\n",
       "      <td>Radboud University/Fluminense Federal University</td>\n",
       "      <td>The netherlands/brazil</td>\n",
       "      <td>Veni Fellow (Postdoc) @RU and Faculty @UFF</td>\n",
       "    </tr>\n",
       "    <tr>\n",
       "      <th>2051</th>\n",
       "      <td>Zheng, Minshan</td>\n",
       "      <td>UC Davis</td>\n",
       "      <td>Ca</td>\n",
       "      <td>Graduate student</td>\n",
       "    </tr>\n",
       "  </tbody>\n",
       "</table>\n",
       "</div>"
      ],
      "text/plain": [
       "                         Name  \\\n",
       "No                              \n",
       "399        Dias, Cid Keythson   \n",
       "1291             Obers, Niels   \n",
       "1385  Pereira, Duarte Antonio   \n",
       "2051           Zheng, Minshan   \n",
       "\n",
       "                                           Institution  \\\n",
       "No                                                       \n",
       "399                 Universidade do Estado do Amazonas   \n",
       "1291                    Nordita & Niels Bohr Institute   \n",
       "1385  Radboud University/Fluminense Federal University   \n",
       "2051                                          UC Davis   \n",
       "\n",
       "                     Country                                    Position  \n",
       "No                                                                        \n",
       "399   Licenciatura em física                                     Faculty  \n",
       "1291        Sweden & denmark                                     Faculty  \n",
       "1385  The netherlands/brazil  Veni Fellow (Postdoc) @RU and Faculty @UFF  \n",
       "2051                      Ca                            Graduate student  "
      ]
     },
     "execution_count": 403,
     "metadata": {},
     "output_type": "execute_result"
    }
   ],
   "source": [
    "df_strings[df_strings.Country.isin(['Sweden & denmark','The netherlands/brazil','Ca','Licenciatura em física'])]"
   ]
  },
  {
   "cell_type": "markdown",
   "metadata": {},
   "source": [
    "To check the country names, we load a list of all the officially recognized country names in the world:"
   ]
  },
  {
   "cell_type": "code",
   "execution_count": 382,
   "metadata": {},
   "outputs": [
    {
     "data": {
      "text/html": [
       "<div>\n",
       "<style scoped>\n",
       "    .dataframe tbody tr th:only-of-type {\n",
       "        vertical-align: middle;\n",
       "    }\n",
       "\n",
       "    .dataframe tbody tr th {\n",
       "        vertical-align: top;\n",
       "    }\n",
       "\n",
       "    .dataframe thead th {\n",
       "        text-align: right;\n",
       "    }\n",
       "</style>\n",
       "<table border=\"1\" class=\"dataframe\">\n",
       "  <thead>\n",
       "    <tr style=\"text-align: right;\">\n",
       "      <th></th>\n",
       "      <th>Country</th>\n",
       "    </tr>\n",
       "  </thead>\n",
       "  <tbody>\n",
       "    <tr>\n",
       "      <th>142</th>\n",
       "      <td>Russian Federation</td>\n",
       "    </tr>\n",
       "  </tbody>\n",
       "</table>\n",
       "</div>"
      ],
      "text/plain": [
       "                Country\n",
       "142  Russian Federation"
      ]
     },
     "execution_count": 382,
     "metadata": {},
     "output_type": "execute_result"
    }
   ],
   "source": [
    "country_names = pd.read_csv('countries.csv', header=0, names={'Country'},usecols=[1])\n",
    "country_names.head(10)\n",
    "#country_names[country_names.Country.str.match(r'^Cze*')]\n",
    "country_names[country_names.Country.str.contains('russia',flags=re.I)]"
   ]
  },
  {
   "cell_type": "markdown",
   "metadata": {},
   "source": [
    "Now are doing an anti-join to find the non-recognizable country names:"
   ]
  },
  {
   "cell_type": "code",
   "execution_count": 381,
   "metadata": {},
   "outputs": [
    {
     "data": {
      "text/plain": [
       "array(['England', 'Iran', 'México', 'Other', 'Russia', 'Saudi arabia',\n",
       "       'Scotland', 'South Korea', 'South africa', 'Taiwan',\n",
       "       'United Kingdom', 'United States', 'Venezuela', 'Vietnam'],\n",
       "      dtype=object)"
      ]
     },
     "execution_count": 381,
     "metadata": {},
     "output_type": "execute_result"
    }
   ],
   "source": [
    "country_match = df_strings.merge(country_names, on='Country', how='left', indicator=True)\n",
    "not_matched_list = country_match.loc[country_match['_merge']=='left_only', 'Country']\n",
    "df_strings[df_strings.Country.isin(not_matched_list)].Country.sort_values().unique()"
   ]
  },
  {
   "cell_type": "markdown",
   "metadata": {},
   "source": [
    "We want to filter and replace country names written in different forms. Later we will also check the outliers and replace city names by the respective countries and any unrecognizable string will be set as 'Other'. We can repeatedly use the following function to make a dictionary of name replacements."
   ]
  },
  {
   "cell_type": "code",
   "execution_count": 419,
   "metadata": {},
   "outputs": [],
   "source": [
    "country_replacements = {}\n",
    "def replacements(regexp, country, value='match'):\n",
    "    '''Creates a dictionary with pairs regexp:country with all the country replacements. Value gives type of regexp match.'''\n",
    "    #for regexp, country in args:\n",
    "    if value == 'match':\n",
    "        country_names = list(df_strings[df_strings.Country.str.match(regexp,flags=re.I)].Country.unique())\n",
    "    elif value == 'contains': \n",
    "        country_names = list(df_strings[df_strings.Country.str.contains(regexp,flags=re.I)].Country.unique())\n",
    "    else :\n",
    "        raise ValueError('Value must be either \\'match\\' or \\'contains\\'.')\n",
    "    for name in country_names:\n",
    "        country_replacements[name] = country"
   ]
  },
  {
   "cell_type": "code",
   "execution_count": 424,
   "metadata": {
    "scrolled": true
   },
   "outputs": [
    {
     "data": {
      "text/plain": [
       "array(['Ca'], dtype=object)"
      ]
     },
     "execution_count": 424,
     "metadata": {},
     "output_type": "execute_result"
    }
   ],
   "source": [
    "df_strings[df_strings.Country.str.match('^Ca$',flags=re.I)].Country.unique()"
   ]
  },
  {
   "cell_type": "markdown",
   "metadata": {},
   "source": [
    "We define a dictionary of replacements `country_dict`, tailored by hand, and use the function `replacements` to make the substitutions in `df_strings`. Is there an easier or more compact way to do this?"
   ]
  },
  {
   "cell_type": "code",
   "execution_count": 425,
   "metadata": {},
   "outputs": [],
   "source": [
    "country_dict = {'^Ca$': 'Other','Uae': 'United Arab Emirates','United kingdom': 'United Kingdom','Uk':'United Kingdom','美国':'United States','瑞典': 'Sweden','日本':'Japan','中国': 'China','Россия': 'Russia','Österreich': 'Austria','Việt nam': 'Vietnam','Türkiye': 'Turkey','Sweden & denmark':'Other','Spagna': 'Spain','Santa barbara': 'United States','Roc':'Taiwan','R. of north macedonia':'North Macedonia','Polska':'Poland','Perú':'Peru','Países bajos':'Netherlands','The netherlands/brazil':'Other','Nederland':'Netherlands','The netherlands':'Netherlands','Melbourne': 'Australia','The us': 'United States','New york, usa': 'United States','Morrocco':'Morocco','Licenciatura em física': 'Other','korea': ('South Korea','contains'),'Italia':'Italy','Hong kong': 'China', 'P. r. china':'China', 'Hong kong china':'China','Ibaraki': 'Japan', '^Fra*':'France','Estados unidos':'United States','España':'Spain','Cairo':'Egypt', 'Eygpt':'Egypt', r'^Bel\\w+':'Belgium','Bahia': 'Brazil','Alemania':'Germany',r'^U.*s.*a*':'United States', r'^Brasil':'Brazil', r'^India':'India', r'^Japa*n*':'Japan', 'Czech republic':'Czechia', }\n",
    "for key, value in country_dict.items(): \n",
    "    if type(value) == str :\n",
    "        replacements(key,value)\n",
    "    elif type(value) == tuple :\n",
    "        replacements(key,value[0],value[1])\n",
    "    else :\n",
    "        raise TypeError('Dictionary values must be either strings or a tuple of size 2 (see function \\'replacements\\').')\n"
   ]
  },
  {
   "cell_type": "code",
   "execution_count": 426,
   "metadata": {},
   "outputs": [
    {
     "data": {
      "text/plain": [
       "{'Ca': 'Other',\n",
       " 'Uae': 'United Arab Emirates',\n",
       " 'United kingdom': 'United Kingdom',\n",
       " 'Uk': 'United Kingdom',\n",
       " 'Ukraine': 'United Kingdom',\n",
       " '美国': 'United States',\n",
       " '瑞典': 'Sweden',\n",
       " '日本': 'Japan',\n",
       " '中国': 'China',\n",
       " 'Россия': 'Russia',\n",
       " 'Österreich': 'Austria',\n",
       " 'Việt nam': 'Vietnam',\n",
       " 'Türkiye': 'Turkey',\n",
       " 'Sweden & denmark': 'Other',\n",
       " 'Spagna': 'Spain',\n",
       " 'Santa barbara': 'United States',\n",
       " 'Roc': 'Taiwan',\n",
       " 'R. of north macedonia': 'North Macedonia',\n",
       " 'Polska': 'Poland',\n",
       " 'Perú': 'Peru',\n",
       " 'Países bajos': 'Netherlands',\n",
       " 'The netherlands/brazil': 'Netherlands',\n",
       " 'Nederland': 'Netherlands',\n",
       " 'The netherlands': 'Netherlands',\n",
       " 'Melbourne': 'Australia',\n",
       " 'The us': 'United States',\n",
       " 'New york, usa': 'United States',\n",
       " 'Morrocco': 'Morocco',\n",
       " 'Licenciatura em física': 'Other',\n",
       " 'South korea': 'South Korea',\n",
       " 'Korea': 'South Korea',\n",
       " 'Republic of korea': 'South Korea',\n",
       " 'Korea (rok)': 'South Korea',\n",
       " 'Republic of korea(south korea)': 'South Korea',\n",
       " 'Italia': 'Italy',\n",
       " 'Hong kong': 'China',\n",
       " 'Hong kong china': 'China',\n",
       " 'P. r. china': 'China',\n",
       " 'Ibaraki': 'Japan',\n",
       " 'France': 'France',\n",
       " 'Francia': 'France',\n",
       " 'França': 'France',\n",
       " 'Estados unidos': 'United States',\n",
       " 'España': 'Spain',\n",
       " 'Cairo': 'Egypt',\n",
       " 'Eygpt': 'Egypt',\n",
       " 'Belgium': 'Belgium',\n",
       " 'Belguim': 'Belgium',\n",
       " 'Belgique': 'Belgium',\n",
       " 'België': 'Belgium',\n",
       " 'Bahia': 'Brazil',\n",
       " 'Alemania': 'Germany',\n",
       " 'United states of america': 'United States',\n",
       " 'Usa': 'United States',\n",
       " 'United states': 'United States',\n",
       " 'United state of america': 'United States',\n",
       " 'Us': 'United States',\n",
       " 'U.s.': 'United States',\n",
       " 'U.s.a.': 'United States',\n",
       " 'Brasil': 'Brazil',\n",
       " 'India': 'India',\n",
       " 'Japan': 'Japan',\n",
       " 'Japn': 'Japan',\n",
       " 'Czech republic': 'Czechia'}"
      ]
     },
     "execution_count": 426,
     "metadata": {},
     "output_type": "execute_result"
    }
   ],
   "source": [
    "country_replacements"
   ]
  },
  {
   "cell_type": "code",
   "execution_count": 427,
   "metadata": {},
   "outputs": [],
   "source": [
    "df_strings.Country = df_strings.Country.replace(country_replacements)"
   ]
  },
  {
   "cell_type": "markdown",
   "metadata": {},
   "source": [
    "Now we can analyze the positions and institutions. It is more interesting to analyse the positions."
   ]
  },
  {
   "cell_type": "code",
   "execution_count": 408,
   "metadata": {},
   "outputs": [],
   "source": [
    "#df_strings.Position.sort_values().unique()"
   ]
  },
  {
   "cell_type": "code",
   "execution_count": null,
   "metadata": {},
   "outputs": [],
   "source": [
    "df_strings.Institution.sort_values().unique()[1:50]"
   ]
  },
  {
   "cell_type": "markdown",
   "metadata": {},
   "source": [
    "# Let's make some plots! \n",
    "\n"
   ]
  },
  {
   "cell_type": "markdown",
   "metadata": {},
   "source": [
    "## With Seaborn\n",
    "\n",
    "Let's first use `seaborn` as it is easier to plot. I want to visualize see the countries with most participants."
   ]
  },
  {
   "cell_type": "code",
   "execution_count": 428,
   "metadata": {},
   "outputs": [],
   "source": [
    "strings_country_list = list(df_strings.Country.value_counts().index)"
   ]
  },
  {
   "cell_type": "code",
   "execution_count": 433,
   "metadata": {},
   "outputs": [
    {
     "data": {
      "image/png": "[encoded data removed]",
      "text/plain": [
       "<Figure size 1440x360 with 1 Axes>"
      ]
     },
     "metadata": {
      "needs_background": "light"
     },
     "output_type": "display_data"
    },
    {
     "data": {
      "text/plain": [
       "<Figure size 432x288 with 0 Axes>"
      ]
     },
     "metadata": {},
     "output_type": "display_data"
    }
   ],
   "source": [
    "import seaborn as sns\n",
    "\n",
    "sns.catplot(x='Country',data=df_strings,kind='count',order=strings_country_list,aspect=4)\n",
    "#sns.set_context('talk')\n",
    "\n",
    "plt.xticks(rotation=90)\n",
    "plt.show()\n",
    "plt.clf()"
   ]
  },
  {
   "cell_type": "code",
   "execution_count": 430,
   "metadata": {},
   "outputs": [
    {
     "data": {
      "text/plain": [
       "['United States',\n",
       " 'India',\n",
       " 'Brazil',\n",
       " 'United Kingdom',\n",
       " 'Japan',\n",
       " 'Germany',\n",
       " 'Italy',\n",
       " 'France',\n",
       " 'Other',\n",
       " 'China']"
      ]
     },
     "execution_count": 430,
     "metadata": {},
     "output_type": "execute_result"
    }
   ],
   "source": [
    "top10_countries"
   ]
  },
  {
   "cell_type": "code",
   "execution_count": 431,
   "metadata": {},
   "outputs": [
    {
     "data": {
      "image/png": "[encoded data removed]",
      "text/plain": [
       "<Figure size 432x288 with 1 Axes>"
      ]
     },
     "metadata": {
      "needs_background": "light"
     },
     "output_type": "display_data"
    }
   ],
   "source": [
    "top10_countries = list(df_strings.Country.value_counts().head(10).index)\n",
    "df_strings_top10 = df_strings[df_strings.Country.isin(top10_countries)]\n",
    "g = sns.countplot(x='Country',data=df_strings_top10, order=top10_countries)\n",
    "\n",
    "g.set(ylabel='# of Participants')\n",
    "g.set_title('Number of Participants by Country')\n",
    "\n",
    "plt.xticks(rotation=90)\n",
    "plt.show()"
   ]
  },
  {
   "cell_type": "markdown",
   "metadata": {},
   "source": [
    "There are too many participants in the `Other` category. Need to check this! "
   ]
  },
  {
   "cell_type": "markdown",
   "metadata": {},
   "source": [
    "## With Matplotlib"
   ]
  },
  {
   "cell_type": "code",
   "execution_count": 325,
   "metadata": {},
   "outputs": [],
   "source": [
    "fig, ax = plt.subplots()\n",
    "\n",
    "ax.bar(df_strings.Country.value_counts().index,df_strings.Country.value_counts(),rotation=90)\n",
    "#plt.show()"
   ]
  },
  {
   "cell_type": "code",
   "execution_count": null,
   "metadata": {},
   "outputs": [],
   "source": [
    "# df_strings_BR = df_strings[(df_strings['Country'] == 'Brazil') | (df_strings['Country'] == 'Brasil')]#.sort_values('Institution')\n",
    "# df_strings_BR.head()"
   ]
  },
  {
   "cell_type": "markdown",
   "metadata": {},
   "source": [
    "# Miscellaneous"
   ]
  },
  {
   "cell_type": "code",
   "execution_count": null,
   "metadata": {},
   "outputs": [],
   "source": []
  }
 ],
 "metadata": {
  "kernelspec": {
   "display_name": "Python 3 (ipykernel)",
   "language": "python",
   "name": "python3"
  },
  "language_info": {
   "codemirror_mode": {
    "name": "ipython",
    "version": 3
   },
   "file_extension": ".py",
   "mimetype": "text/x-python",
   "name": "python",
   "nbconvert_exporter": "python",
   "pygments_lexer": "ipython3",
   "version": "3.7.10"
  }
 },
 "nbformat": 4,
 "nbformat_minor": 4
}
