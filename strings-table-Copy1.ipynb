{
 "cells": [
  {
   "cell_type": "code",
   "execution_count": 1,
   "metadata": {},
   "outputs": [],
   "source": [
    "import tabula\n",
    "import pandas as pd\n",
    "import matplotlib.pyplot as plt"
   ]
  },
  {
   "cell_type": "code",
   "execution_count": 2,
   "metadata": {},
   "outputs": [],
   "source": [
    "path_to_pdf = \"https://www.ictp-saifr.org/wp-content/uploads/2021/06/stringsreg616.pdf\"\n",
    "df_list = tabula.read_pdf(path_to_pdf, pages = \"all\")\n",
    "#dfs_local=tabula.read_pdf(\"strings-table.pdf\", pages = \"all\")"
   ]
  },
  {
   "cell_type": "code",
   "execution_count": 4,
   "metadata": {},
   "outputs": [
    {
     "data": {
      "text/html": [
       "<div>\n",
       "<style scoped>\n",
       "    .dataframe tbody tr th:only-of-type {\n",
       "        vertical-align: middle;\n",
       "    }\n",
       "\n",
       "    .dataframe tbody tr th {\n",
       "        vertical-align: top;\n",
       "    }\n",
       "\n",
       "    .dataframe thead th {\n",
       "        text-align: right;\n",
       "    }\n",
       "</style>\n",
       "<table border=\"1\" class=\"dataframe\">\n",
       "  <thead>\n",
       "    <tr style=\"text-align: right;\">\n",
       "      <th></th>\n",
       "      <th>Name</th>\n",
       "      <th>Institution</th>\n",
       "      <th>Country</th>\n",
       "      <th>Position</th>\n",
       "    </tr>\n",
       "    <tr>\n",
       "      <th>No</th>\n",
       "      <th></th>\n",
       "      <th></th>\n",
       "      <th></th>\n",
       "      <th></th>\n",
       "    </tr>\n",
       "  </thead>\n",
       "  <tbody>\n",
       "    <tr>\n",
       "      <th>1</th>\n",
       "      <td>Aalsma, Lars</td>\n",
       "      <td>University of Wisconsin-Madison</td>\n",
       "      <td>United States of America</td>\n",
       "      <td>Postdoc</td>\n",
       "    </tr>\n",
       "    <tr>\n",
       "      <th>2</th>\n",
       "      <td>Abbasi, Navid</td>\n",
       "      <td>LZU</td>\n",
       "      <td>China</td>\n",
       "      <td>Faculty</td>\n",
       "    </tr>\n",
       "    <tr>\n",
       "      <th>3</th>\n",
       "      <td>Abderrazaq, Abassi El</td>\n",
       "      <td>Ibn Tofail University</td>\n",
       "      <td>Morrocco</td>\n",
       "      <td>Graduate student</td>\n",
       "    </tr>\n",
       "    <tr>\n",
       "      <th>4</th>\n",
       "      <td>Abdulhamid, Ibrahim Muhammad</td>\n",
       "      <td>Faculty of Science, Tanta University, Egypt</td>\n",
       "      <td>Egypt</td>\n",
       "      <td>Graduate student</td>\n",
       "    </tr>\n",
       "    <tr>\n",
       "      <th>5</th>\n",
       "      <td>Abe, Yoshihiko</td>\n",
       "      <td>Kyoto Univ.</td>\n",
       "      <td>Japan</td>\n",
       "      <td>Graduate student</td>\n",
       "    </tr>\n",
       "  </tbody>\n",
       "</table>\n",
       "</div>"
      ],
      "text/plain": [
       "                            Name                                  Institution  \\\n",
       "No                                                                              \n",
       "1                   Aalsma, Lars              University of Wisconsin-Madison   \n",
       "2                  Abbasi, Navid                                          LZU   \n",
       "3          Abderrazaq, Abassi El                        Ibn Tofail University   \n",
       "4   Abdulhamid, Ibrahim Muhammad  Faculty of Science, Tanta University, Egypt   \n",
       "5                 Abe, Yoshihiko                                  Kyoto Univ.   \n",
       "\n",
       "                     Country          Position  \n",
       "No                                              \n",
       "1   United States of America           Postdoc  \n",
       "2                      China           Faculty  \n",
       "3                   Morrocco  Graduate student  \n",
       "4                      Egypt  Graduate student  \n",
       "5                      Japan  Graduate student  "
      ]
     },
     "execution_count": 4,
     "metadata": {},
     "output_type": "execute_result"
    }
   ],
   "source": [
    "## I can only run this once, because it is changing df_list in some steps. Can I fix this?\n",
    "for i,df in enumerate(df_list):\n",
    "    if i == 0 :\n",
    "        df_list[0].columns = df_list[0].iloc[1]   # Fix column names\n",
    "        df_strings = df_list[0].drop([0,1]).reset_index(drop=True).astype({\"No\": int}).copy() # Start df_strings DF\n",
    "        df_strings.columns.name=''\n",
    "    else :\n",
    "        df.loc[len(df)] = list(df.columns) # Adding column names to the bottom.\n",
    "        df.columns = df_strings.columns  # Fix column names\n",
    "        df_list_new = df.astype({\"No\": int}).sort_values('No').reset_index(drop=True).copy() # Transform 'No' column to int64, sort values in ascending order and reset indexes \n",
    "        df_strings = df_strings.append(df_list_new, ignore_index=True) # Append DF to the bottom of strings\n",
    "        \n",
    "df_strings = df_strings.set_index('No')\n",
    "df_strings.head()"
   ]
  },
  {
   "cell_type": "code",
   "execution_count": 5,
   "metadata": {},
   "outputs": [
    {
     "data": {
      "text/html": [
       "<div>\n",
       "<style scoped>\n",
       "    .dataframe tbody tr th:only-of-type {\n",
       "        vertical-align: middle;\n",
       "    }\n",
       "\n",
       "    .dataframe tbody tr th {\n",
       "        vertical-align: top;\n",
       "    }\n",
       "\n",
       "    .dataframe thead th {\n",
       "        text-align: right;\n",
       "    }\n",
       "</style>\n",
       "<table border=\"1\" class=\"dataframe\">\n",
       "  <thead>\n",
       "    <tr style=\"text-align: right;\">\n",
       "      <th></th>\n",
       "      <th>Name</th>\n",
       "      <th>Institution</th>\n",
       "      <th>Country</th>\n",
       "      <th>Position</th>\n",
       "    </tr>\n",
       "    <tr>\n",
       "      <th>No</th>\n",
       "      <th></th>\n",
       "      <th></th>\n",
       "      <th></th>\n",
       "      <th></th>\n",
       "    </tr>\n",
       "  </thead>\n",
       "  <tbody>\n",
       "    <tr>\n",
       "      <th>45</th>\n",
       "      <td>Almeida, Lourdes de Maria</td>\n",
       "      <td>Opus Psicologia Clinica</td>\n",
       "      <td>Brasil</td>\n",
       "      <td>Faculty</td>\n",
       "    </tr>\n",
       "    <tr>\n",
       "      <th>46</th>\n",
       "      <td>Almeida, Luz Gabriel</td>\n",
       "      <td>UFRN</td>\n",
       "      <td>Brazil</td>\n",
       "      <td>Graduate student</td>\n",
       "    </tr>\n",
       "    <tr>\n",
       "      <th>54</th>\n",
       "      <td>Amado, Barragan Julian Jose</td>\n",
       "      <td>Universidade Federal de Pernambuco</td>\n",
       "      <td>Brasil</td>\n",
       "      <td>Postdoc</td>\n",
       "    </tr>\n",
       "    <tr>\n",
       "      <th>57</th>\n",
       "      <td>Amaya, Eduardo Daniel</td>\n",
       "      <td>UFRJ</td>\n",
       "      <td>Brazil</td>\n",
       "      <td>Graduate student</td>\n",
       "    </tr>\n",
       "    <tr>\n",
       "      <th>68</th>\n",
       "      <td>Andriolo, Patrick</td>\n",
       "      <td>University of São Paulo</td>\n",
       "      <td>Brasil</td>\n",
       "      <td>Undergraduate student</td>\n",
       "    </tr>\n",
       "  </tbody>\n",
       "</table>\n",
       "</div>"
      ],
      "text/plain": [
       "                           Name                         Institution Country  \\\n",
       "No                                                                            \n",
       "45    Almeida, Lourdes de Maria             Opus Psicologia Clinica  Brasil   \n",
       "46         Almeida, Luz Gabriel                                UFRN  Brazil   \n",
       "54  Amado, Barragan Julian Jose  Universidade Federal de Pernambuco  Brasil   \n",
       "57        Amaya, Eduardo Daniel                                UFRJ  Brazil   \n",
       "68            Andriolo, Patrick             University of São Paulo  Brasil   \n",
       "\n",
       "                 Position  \n",
       "No                         \n",
       "45                Faculty  \n",
       "46       Graduate student  \n",
       "54                Postdoc  \n",
       "57       Graduate student  \n",
       "68  Undergraduate student  "
      ]
     },
     "execution_count": 5,
     "metadata": {},
     "output_type": "execute_result"
    }
   ],
   "source": [
    "df_strings_BR = df_strings[(df_strings['Country'] == 'Brazil') | (df_strings['Country'] == 'Brasil')]#.sort_values('Institution')\n",
    "df_strings_BR.head()"
   ]
  },
  {
   "cell_type": "code",
   "execution_count": 32,
   "metadata": {},
   "outputs": [
    {
     "name": "stdout",
     "output_type": "stream",
     "text": [
      "<class 'pandas.core.frame.DataFrame'>\n",
      "Int64Index: 2074 entries, 1 to 2074\n",
      "Data columns (total 4 columns):\n",
      "Name           2074 non-null object\n",
      "Institution    2074 non-null object\n",
      "Country        2074 non-null object\n",
      "Position       2074 non-null object\n",
      "dtypes: object(4)\n",
      "memory usage: 81.0+ KB\n"
     ]
    }
   ],
   "source": [
    "df_strings.info()"
   ]
  },
  {
   "cell_type": "code",
   "execution_count": 33,
   "metadata": {},
   "outputs": [],
   "source": [
    "df_strings[df_strings.Country == \"Brasil\"] = \"Brazil\""
   ]
  },
  {
   "cell_type": "code",
   "execution_count": null,
   "metadata": {},
   "outputs": [],
   "source": []
  }
 ],
 "metadata": {
  "kernelspec": {
   "display_name": "Python 3",
   "language": "python",
   "name": "python3"
  },
  "language_info": {
   "codemirror_mode": {
    "name": "ipython",
    "version": 3
   },
   "file_extension": ".py",
   "mimetype": "text/x-python",
   "name": "python",
   "nbconvert_exporter": "python",
   "pygments_lexer": "ipython3",
   "version": "3.7.3"
  }
 },
 "nbformat": 4,
 "nbformat_minor": 4
}
